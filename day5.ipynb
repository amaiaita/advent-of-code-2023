{
 "cells": [
  {
   "cell_type": "code",
   "execution_count": null,
   "metadata": {},
   "outputs": [],
   "source": [
    "TEST_INPUT = '''seeds: 79 14 55 13\n",
    "\n",
    "seed-to-soil map:\n",
    "50 98 2\n",
    "52 50 48\n",
    "\n",
    "soil-to-fertilizer map:\n",
    "0 15 37\n",
    "37 52 2\n",
    "39 0 15\n",
    "\n",
    "fertilizer-to-water map:\n",
    "49 53 8\n",
    "0 11 42\n",
    "42 0 7\n",
    "57 7 4\n",
    "\n",
    "water-to-light map:\n",
    "88 18 7\n",
    "18 25 70\n",
    "\n",
    "light-to-temperature map:\n",
    "45 77 23\n",
    "81 45 19\n",
    "68 64 13\n",
    "\n",
    "temperature-to-humidity map:\n",
    "0 69 1\n",
    "1 0 69\n",
    "\n",
    "humidity-to-location map:\n",
    "60 56 37\n",
    "56 93 4'''.split('\\n\\n')\n"
   ]
  },
  {
   "cell_type": "code",
   "execution_count": null,
   "metadata": {},
   "outputs": [],
   "source": [
    "with open(\"day5.txt\") as f:\n",
    "    TEST_INPUT = f.read().split(\"\\n\\n\")\n",
    "TEST_INPUT"
   ]
  },
  {
   "cell_type": "code",
   "execution_count": null,
   "metadata": {},
   "outputs": [],
   "source": [
    "seed_ranges = [int(x) for x in TEST_INPUT[0].split(' ')[1:]]\n",
    "seeds = []\n",
    "for i in range(len(seed_ranges)):\n",
    "    if i%2==0:\n",
    "        for j in range(seed_ranges[i+1]):\n",
    "            seeds.append(seed_ranges[i]+j)"
   ]
  },
  {
   "cell_type": "code",
   "execution_count": null,
   "metadata": {},
   "outputs": [],
   "source": [
    "maps_formatted = {}\n",
    "\n",
    "for i in range(1,len(TEST_INPUT)):\n",
    "    map_list = TEST_INPUT[i].splitlines()\n",
    "    maps_formatted[map_list[0]] = {}\n",
    "    for j, code in enumerate(map_list):\n",
    "        \n",
    "        if j !=0:\n",
    "            code = code.split(' ')\n",
    "            maps_formatted[map_list[0]]['destinations'].append(int(code[0]))\n",
    "            maps_formatted[map_list[0]]['sources'].append(int(code[1]))\n",
    "            maps_formatted[map_list[0]]['ranges'].append(int(code[2]))\n",
    "        else:\n",
    "            maps_formatted[map_list[0]]['destinations'] = []\n",
    "            maps_formatted[map_list[0]]['sources'] = []\n",
    "            maps_formatted[map_list[0]]['ranges'] = []\n",
    "maps_formatted"
   ]
  },
  {
   "cell_type": "code",
   "execution_count": null,
   "metadata": {},
   "outputs": [],
   "source": [
    "def mapping_process(map_to_use,source_to_use):\n",
    "    destination = []\n",
    "    for j,seed in enumerate(source_to_use):\n",
    "        current_map = maps_formatted[map_to_use]\n",
    "        for i, source in enumerate(current_map['sources']):\n",
    "            if ((seed>=source) & (seed<source+current_map['ranges'][i])):\n",
    "                destination.append(current_map['destinations'][i] + (seed-source))\n",
    "                break\n",
    "        \n",
    "        if len(destination)<j+1:\n",
    "            destination.append(seed)\n",
    "    return destination\n",
    "\n",
    "soils = mapping_process('seed-to-soil map:',seeds)\n",
    "soils"
   ]
  },
  {
   "cell_type": "code",
   "execution_count": null,
   "metadata": {},
   "outputs": [],
   "source": [
    "fertilizers = mapping_process('soil-to-fertilizer map:',soils)\n",
    "fertilizers"
   ]
  },
  {
   "cell_type": "code",
   "execution_count": null,
   "metadata": {},
   "outputs": [],
   "source": [
    "waters = mapping_process('fertilizer-to-water map:',fertilizers)\n",
    "waters"
   ]
  },
  {
   "cell_type": "code",
   "execution_count": null,
   "metadata": {},
   "outputs": [],
   "source": [
    "lights = mapping_process('water-to-light map:',waters)\n",
    "lights"
   ]
  },
  {
   "cell_type": "code",
   "execution_count": null,
   "metadata": {},
   "outputs": [],
   "source": [
    "temperatures = mapping_process('light-to-temperature map:',lights)\n",
    "temperatures"
   ]
  },
  {
   "cell_type": "code",
   "execution_count": null,
   "metadata": {},
   "outputs": [],
   "source": [
    "humidities = mapping_process('temperature-to-humidity map:',temperatures)\n",
    "humidities"
   ]
  },
  {
   "cell_type": "code",
   "execution_count": null,
   "metadata": {},
   "outputs": [],
   "source": [
    "locations = mapping_process('humidity-to-location map:',humidities)\n",
    "locations"
   ]
  },
  {
   "cell_type": "code",
   "execution_count": null,
   "metadata": {},
   "outputs": [],
   "source": [
    "min(locations)"
   ]
  },
  {
   "cell_type": "code",
   "execution_count": null,
   "metadata": {},
   "outputs": [],
   "source": []
  }
 ],
 "metadata": {
  "kernelspec": {
   "display_name": "Python 3",
   "language": "python",
   "name": "python3"
  },
  "language_info": {
   "codemirror_mode": {
    "name": "ipython",
    "version": 3
   },
   "file_extension": ".py",
   "mimetype": "text/x-python",
   "name": "python",
   "nbconvert_exporter": "python",
   "pygments_lexer": "ipython3",
   "version": "3.12.0"
  }
 },
 "nbformat": 4,
 "nbformat_minor": 2
}
