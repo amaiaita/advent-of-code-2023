{
 "cells": [
  {
   "cell_type": "code",
   "execution_count": 19,
   "metadata": {},
   "outputs": [
    {
     "data": {
      "text/plain": [
       "[446, 1292, 1035, 1007]"
      ]
     },
     "execution_count": 19,
     "metadata": {},
     "output_type": "execute_result"
    }
   ],
   "source": [
    "with open(\"day6.txt\") as f:\n",
    "    TEST_INPUT = f.read().split(\"\\n\")\n",
    "\n",
    "times = [x for x in TEST_INPUT[0].split(' ') if x != ''][1:]\n",
    "times = [int(x) for x in times]\n",
    "distances = [x for x in TEST_INPUT[1].split(' ') if x != ''][1:]\n",
    "distances = [int(x) for x in distances]\n"
   ]
  },
  {
   "cell_type": "code",
   "execution_count": 20,
   "metadata": {},
   "outputs": [
    {
     "data": {
      "text/plain": [
       "2065338"
      ]
     },
     "execution_count": 20,
     "metadata": {},
     "output_type": "execute_result"
    }
   ],
   "source": [
    "# times = [7,15,30]\n",
    "# distances = [9,40,200]\n",
    "\n",
    "total = 1\n",
    "\n",
    "for i,time in enumerate(times):\n",
    "    ways_to_win = 0\n",
    "    for hold in range(time+1):\n",
    "        \n",
    "        distance_travelled = hold * (time-hold)\n",
    "        if distance_travelled>distances[i]:\n",
    "            ways_to_win+=1\n",
    "    total = total * ways_to_win\n",
    "total"
   ]
  },
  {
   "cell_type": "code",
   "execution_count": 27,
   "metadata": {},
   "outputs": [],
   "source": [
    "with open(\"day6.txt\") as f:\n",
    "    TEST_INPUT = f.read().split(\"\\n\")\n",
    "\n",
    "# TEST_INPUT = '''Time:      7  15   30\n",
    "# Distance:  9  40  200'''.split('\\n')\n",
    "\n",
    "times = [x for x in TEST_INPUT[0].split(' ') if x != ''][1:]\n",
    "\n",
    "time = ''\n",
    "for t in times:\n",
    "    time+=t\n",
    "time = int(time)\n",
    "\n",
    "distances = [x for x in TEST_INPUT[1].split(' ') if x != ''][1:]\n",
    "\n",
    "distance = ''\n",
    "for d in distances:\n",
    "    distance+=d\n",
    "distance = int(distance)\n",
    "\n"
   ]
  },
  {
   "cell_type": "code",
   "execution_count": 28,
   "metadata": {},
   "outputs": [
    {
     "name": "stdout",
     "output_type": "stream",
     "text": [
      "34934171\n"
     ]
    }
   ],
   "source": [
    "total = 1\n",
    "\n",
    "ways_to_win = 0\n",
    "for hold in range(time+1):\n",
    "    \n",
    "    distance_travelled = hold * (time-hold)\n",
    "    if distance_travelled>distance:\n",
    "        ways_to_win+=1\n",
    "total = total * ways_to_win\n",
    "\n",
    "print(total)"
   ]
  },
  {
   "cell_type": "code",
   "execution_count": null,
   "metadata": {},
   "outputs": [],
   "source": []
  }
 ],
 "metadata": {
  "kernelspec": {
   "display_name": "Python 3",
   "language": "python",
   "name": "python3"
  },
  "language_info": {
   "codemirror_mode": {
    "name": "ipython",
    "version": 3
   },
   "file_extension": ".py",
   "mimetype": "text/x-python",
   "name": "python",
   "nbconvert_exporter": "python",
   "pygments_lexer": "ipython3",
   "version": "3.12.0"
  }
 },
 "nbformat": 4,
 "nbformat_minor": 2
}
