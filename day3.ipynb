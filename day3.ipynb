{
 "cells": [
  {
   "cell_type": "code",
   "execution_count": 6,
   "metadata": {},
   "outputs": [],
   "source": [
    "import re"
   ]
  },
  {
   "cell_type": "code",
   "execution_count": 16,
   "metadata": {},
   "outputs": [
    {
     "data": {
      "text/plain": [
       "[[], [3], [], [6], [3], [5], [], [], [3, 5], []]"
      ]
     },
     "execution_count": 16,
     "metadata": {},
     "output_type": "execute_result"
    }
   ],
   "source": [
    "TEST_INPUT ='''467..114..\n",
    "...*......\n",
    "..35..633.\n",
    "......#...\n",
    "617*......\n",
    ".....+.58.\n",
    "..592.....\n",
    "......755.\n",
    "...$.*....\n",
    ".664.598..'''.split('\\n')\n",
    "\n",
    "# TEST_INPUT = [x.split(\"\") for x in TEST_INPUT]\n",
    "digits = []\n",
    "special_characters = []\n",
    "for line in TEST_INPUT:\n",
    "    digits.append([(m.start(0), m.end(0)) for m in re.finditer(r\"\\d+\",line)])\n",
    "    special_characters.append([m.start(0) for m in re.finditer(r\"[^\\w\\d.]\",line)])\n"
   ]
  },
  {
   "cell_type": "code",
   "execution_count": 20,
   "metadata": {},
   "outputs": [
    {
     "ename": "IndexError",
     "evalue": "list index out of range",
     "output_type": "error",
     "traceback": [
      "\u001b[0;31m---------------------------------------------------------------------------\u001b[0m",
      "\u001b[0;31mIndexError\u001b[0m                                Traceback (most recent call last)",
      "\u001b[1;32m/Users/amaiaimazblanco/Documents/AdventOfCode2023/day3.ipynb Cell 3\u001b[0m line \u001b[0;36m6\n\u001b[1;32m      <a href='vscode-notebook-cell:/Users/amaiaimazblanco/Documents/AdventOfCode2023/day3.ipynb#W1sZmlsZQ%3D%3D?line=3'>4</a>\u001b[0m valid_digit \u001b[39m=\u001b[39m \u001b[39mTrue\u001b[39;00m\n\u001b[1;32m      <a href='vscode-notebook-cell:/Users/amaiaimazblanco/Documents/AdventOfCode2023/day3.ipynb#W1sZmlsZQ%3D%3D?line=4'>5</a>\u001b[0m \u001b[39mfor\u001b[39;00m j \u001b[39min\u001b[39;00m \u001b[39mrange\u001b[39m(digit[\u001b[39m0\u001b[39m],digit[\u001b[39m1\u001b[39m]):\n\u001b[0;32m----> <a href='vscode-notebook-cell:/Users/amaiaimazblanco/Documents/AdventOfCode2023/day3.ipynb#W1sZmlsZQ%3D%3D?line=5'>6</a>\u001b[0m     \u001b[39mif\u001b[39;00m ((j\u001b[39m+\u001b[39m\u001b[39m1\u001b[39m) \u001b[39min\u001b[39;00m special_characters[i]) \u001b[39m|\u001b[39m ((j\u001b[39m-\u001b[39m\u001b[39m1\u001b[39m) \u001b[39min\u001b[39;00m special_characters[i]) \u001b[39m|\u001b[39m (j \u001b[39min\u001b[39;00m special_characters[i\u001b[39m+\u001b[39;49m\u001b[39m1\u001b[39;49m])  \u001b[39m|\u001b[39m (j \u001b[39min\u001b[39;00m special_characters[i\u001b[39m-\u001b[39m\u001b[39m1\u001b[39m]):\n\u001b[1;32m      <a href='vscode-notebook-cell:/Users/amaiaimazblanco/Documents/AdventOfCode2023/day3.ipynb#W1sZmlsZQ%3D%3D?line=6'>7</a>\u001b[0m         valid_digit \u001b[39m=\u001b[39m \u001b[39mFalse\u001b[39;00m\n\u001b[1;32m      <a href='vscode-notebook-cell:/Users/amaiaimazblanco/Documents/AdventOfCode2023/day3.ipynb#W1sZmlsZQ%3D%3D?line=7'>8</a>\u001b[0m     \u001b[39mif\u001b[39;00m ((j\u001b[39m+\u001b[39m\u001b[39m1\u001b[39m) \u001b[39min\u001b[39;00m special_characters[i\u001b[39m+\u001b[39m\u001b[39m1\u001b[39m]) \u001b[39m|\u001b[39m ((j\u001b[39m-\u001b[39m\u001b[39m1\u001b[39m) \u001b[39min\u001b[39;00m special_characters[i\u001b[39m-\u001b[39m\u001b[39m1\u001b[39m]) \u001b[39m|\u001b[39m ((j\u001b[39m-\u001b[39m\u001b[39m1\u001b[39m) \u001b[39min\u001b[39;00m special_characters[i\u001b[39m+\u001b[39m\u001b[39m1\u001b[39m])  \u001b[39m|\u001b[39m ((j\u001b[39m+\u001b[39m\u001b[39m1\u001b[39m) \u001b[39min\u001b[39;00m special_characters[i\u001b[39m-\u001b[39m\u001b[39m1\u001b[39m]):\n",
      "\u001b[0;31mIndexError\u001b[0m: list index out of range"
     ]
    }
   ],
   "source": [
    "part_total = 0\n",
    "for i,digit_line in enumerate(digits):\n",
    "    for digit in digit_line:\n",
    "        valid_digit = True\n",
    "        for j in range(digit[0],digit[1]):\n",
    "            if ((j+1) in special_characters[i]) | ((j-1) in special_characters[i]) | (j in special_characters[i+1])  | (j in special_characters[i-1]):\n",
    "                valid_digit = False\n",
    "            if ((j+1) in special_characters[i+1]) | ((j-1) in special_characters[i-1]) | ((j-1) in special_characters[i+1])  | ((j+1) in special_characters[i-1]):\n",
    "                valid_digit = False\n",
    "        if valid_digit==True:\n",
    "            part_total+=int(TEST_INPUT[i][digit[0]:digit[1]])\n",
    "\n",
    "print(part_total)"
   ]
  },
  {
   "cell_type": "code",
   "execution_count": null,
   "metadata": {},
   "outputs": [],
   "source": []
  }
 ],
 "metadata": {
  "kernelspec": {
   "display_name": "Python 3",
   "language": "python",
   "name": "python3"
  },
  "language_info": {
   "codemirror_mode": {
    "name": "ipython",
    "version": 3
   },
   "file_extension": ".py",
   "mimetype": "text/x-python",
   "name": "python",
   "nbconvert_exporter": "python",
   "pygments_lexer": "ipython3",
   "version": "3.12.0"
  }
 },
 "nbformat": 4,
 "nbformat_minor": 2
}
