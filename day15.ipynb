{
 "cells": [
  {
   "cell_type": "code",
   "execution_count": 93,
   "metadata": {},
   "outputs": [
    {
     "data": {
      "text/plain": [
       "['rn=1',\n",
       " 'cm-',\n",
       " 'qp=3',\n",
       " 'cm=2',\n",
       " 'qp-',\n",
       " 'pc=4',\n",
       " 'ot=9',\n",
       " 'ab=5',\n",
       " 'pc-',\n",
       " 'pc=6',\n",
       " 'ot=7']"
      ]
     },
     "execution_count": 93,
     "metadata": {},
     "output_type": "execute_result"
    }
   ],
   "source": [
    "TEST_INPUT = '''rn=1,cm-,qp=3,cm=2,qp-,pc=4,ot=9,\n",
    "ab=5,pc-,pc=6,ot=7'''.replace('\\n','').split(',')\n",
    "TEST_INPUT"
   ]
  },
  {
   "cell_type": "code",
   "execution_count": 94,
   "metadata": {},
   "outputs": [],
   "source": [
    "with open(\"day15.txt\") as f:\n",
    "    TEST_INPUT = f.read().replace('\\n','').split(',')"
   ]
  },
  {
   "cell_type": "code",
   "execution_count": 95,
   "metadata": {},
   "outputs": [],
   "source": [
    "def convert_to_result(sequence_step:str):\n",
    "    total_for_string = 0\n",
    "    for character in sequence_step:\n",
    "        total_for_string += ord(character)\n",
    "        total_for_string = (total_for_string*17)%256\n",
    "    return total_for_string"
   ]
  },
  {
   "cell_type": "code",
   "execution_count": 96,
   "metadata": {},
   "outputs": [
    {
     "data": {
      "text/plain": [
       "510792"
      ]
     },
     "execution_count": 96,
     "metadata": {},
     "output_type": "execute_result"
    }
   ],
   "source": [
    "total = 0\n",
    "for sequence_step in TEST_INPUT:\n",
    "    total+=convert_to_result(sequence_step)\n",
    "total"
   ]
  },
  {
   "cell_type": "code",
   "execution_count": 97,
   "metadata": {},
   "outputs": [],
   "source": [
    "box_list = {}\n",
    "\n",
    "for i in range(257):\n",
    "    box_list[i] = []"
   ]
  },
  {
   "cell_type": "code",
   "execution_count": 98,
   "metadata": {},
   "outputs": [],
   "source": [
    "def if_includes_equals(sequence_step):\n",
    "    split = sequence_step.split('=')\n",
    "    label = split[0]\n",
    "    box_number = convert_to_result(label)\n",
    "    lens_focal_length = split[1]\n",
    "    lens_exists = False\n",
    "    for i,lens in enumerate(box_list[box_number]):\n",
    "        if lens[0]==label:\n",
    "            box_list[box_number][i] = (label,int(lens_focal_length))\n",
    "            lens_exists = True\n",
    "    if not lens_exists:\n",
    "        box_list[box_number].append((label,int(lens_focal_length)))\n"
   ]
  },
  {
   "cell_type": "code",
   "execution_count": 99,
   "metadata": {},
   "outputs": [],
   "source": [
    "def if_includes_minus(sequence_step):\n",
    "    label = sequence_step[:-1]\n",
    "    box_number = convert_to_result(label)\n",
    "    new_box_arrangement = []\n",
    "    for lens in box_list[box_number]:\n",
    "        if lens[0] != label:\n",
    "            new_box_arrangement.append(lens)\n",
    "    box_list[box_number] = new_box_arrangement"
   ]
  },
  {
   "cell_type": "code",
   "execution_count": 100,
   "metadata": {},
   "outputs": [],
   "source": [
    "for sequence_step in TEST_INPUT:\n",
    "    if '=' in sequence_step:\n",
    "        if_includes_equals(sequence_step)\n",
    "    elif '-' in sequence_step:\n",
    "        if_includes_minus(sequence_step)"
   ]
  },
  {
   "cell_type": "code",
   "execution_count": 101,
   "metadata": {},
   "outputs": [
    {
     "data": {
      "text/plain": [
       "269410"
      ]
     },
     "execution_count": 101,
     "metadata": {},
     "output_type": "execute_result"
    }
   ],
   "source": [
    "total_focusing_power = 0\n",
    "for box_number in box_list.keys():\n",
    "    if len(box_list[box_number]) > 0:\n",
    "        for i,lens in enumerate(box_list[box_number]):\n",
    "            focusing_power = (box_number+1)*(i+1)*lens[1]\n",
    "            total_focusing_power += focusing_power\n",
    "total_focusing_power\n",
    "            "
   ]
  },
  {
   "cell_type": "code",
   "execution_count": null,
   "metadata": {},
   "outputs": [],
   "source": []
  }
 ],
 "metadata": {
  "kernelspec": {
   "display_name": "Python 3",
   "language": "python",
   "name": "python3"
  },
  "language_info": {
   "codemirror_mode": {
    "name": "ipython",
    "version": 3
   },
   "file_extension": ".py",
   "mimetype": "text/x-python",
   "name": "python",
   "nbconvert_exporter": "python",
   "pygments_lexer": "ipython3",
   "version": "3.12.0"
  }
 },
 "nbformat": 4,
 "nbformat_minor": 2
}
