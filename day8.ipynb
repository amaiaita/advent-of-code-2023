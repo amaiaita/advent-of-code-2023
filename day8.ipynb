{
 "cells": [
  {
   "cell_type": "code",
   "execution_count": 62,
   "metadata": {},
   "outputs": [
    {
     "data": {
      "text/plain": [
       "['LR',\n",
       " '11A = (11B, XXX)\\n11B = (XXX, 11Z)\\n11Z = (11B, XXX)\\n22A = (22B, XXX)\\n22B = (22C, 22C)\\n22C = (22Z, 22Z)\\n22Z = (22B, 22B)\\nXXX = (XXX, XXX)']"
      ]
     },
     "execution_count": 62,
     "metadata": {},
     "output_type": "execute_result"
    }
   ],
   "source": [
    "TEST_INPUT = '''LR\n",
    "\n",
    "11A = (11B, XXX)\n",
    "11B = (XXX, 11Z)\n",
    "11Z = (11B, XXX)\n",
    "22A = (22B, XXX)\n",
    "22B = (22C, 22C)\n",
    "22C = (22Z, 22Z)\n",
    "22Z = (22B, 22B)\n",
    "XXX = (XXX, XXX)'''.split('\\n\\n')\n",
    "TEST_INPUT"
   ]
  },
  {
   "cell_type": "code",
   "execution_count": 63,
   "metadata": {},
   "outputs": [],
   "source": [
    "with open(\"day8.txt\") as f:\n",
    "    TEST_INPUT = f.read().split(\"\\n\\n\")"
   ]
  },
  {
   "cell_type": "code",
   "execution_count": 64,
   "metadata": {},
   "outputs": [],
   "source": [
    "instructions = TEST_INPUT[0]\n",
    "nodes = TEST_INPUT[1].split('\\n')\n",
    "node = {}\n",
    "\n",
    "for n in nodes:\n",
    "    split = n.split(' = ')\n",
    "    node[split[0]] = split[1]\n",
    "\n",
    "for key,value in node.items():\n",
    "    node[key] = value.strip('()').split(', ')\n",
    "\n",
    "starting_nodes = [x for x in node.keys() if x[2]=='A']"
   ]
  },
  {
   "cell_type": "code",
   "execution_count": 65,
   "metadata": {},
   "outputs": [
    {
     "data": {
      "text/plain": [
       "'01110110100101101010011101011101110101011010111011001100011011011101011101101110111011010011101011010101110110011100110101101110001110010011011101010110001110011000101011001001100011001110101110100111011101010111010111011101110010101011010111010100110110110111011101001000110101111'"
      ]
     },
     "execution_count": 65,
     "metadata": {},
     "output_type": "execute_result"
    }
   ],
   "source": [
    "instructions = instructions.replace(\"L\",\"0\")\n",
    "instructions = instructions.replace(\"R\",\"1\")\n",
    "instructions"
   ]
  },
  {
   "cell_type": "code",
   "execution_count": 66,
   "metadata": {},
   "outputs": [],
   "source": [
    "def are_last_letters_z(dictionary):\n",
    "    # Extract the last letter of the first value (assuming all values are non-empty strings)\n",
    "    # last_letter = None\n",
    "    # for value in dictionary.values():\n",
    "    #     if len(value) > 0:\n",
    "    #         last_letter = value[-1]\n",
    "    #         break\n",
    "    \n",
    "    # Check if the last letter of all values is equal to the first last letter\n",
    "    return all(value.endswith('Z') for value in dictionary.values())"
   ]
  },
  {
   "cell_type": "code",
   "execution_count": 70,
   "metadata": {},
   "outputs": [
    {
     "ename": "KeyboardInterrupt",
     "evalue": "",
     "output_type": "error",
     "traceback": [
      "\u001b[0;31m---------------------------------------------------------------------------\u001b[0m",
      "\u001b[0;31mKeyboardInterrupt\u001b[0m                         Traceback (most recent call last)",
      "\u001b[1;32m/Users/amaiaimazblanco/Documents/AdventOfCode2023/day8.ipynb Cell 6\u001b[0m line \u001b[0;36m1\n\u001b[1;32m     <a href='vscode-notebook-cell:/Users/amaiaimazblanco/Documents/AdventOfCode2023/day8.ipynb#W2sZmlsZQ%3D%3D?line=12'>13</a>\u001b[0m             next_steps[key] \u001b[39m=\u001b[39m node[next_steps[key]][instruction]\n\u001b[1;32m     <a href='vscode-notebook-cell:/Users/amaiaimazblanco/Documents/AdventOfCode2023/day8.ipynb#W2sZmlsZQ%3D%3D?line=13'>14</a>\u001b[0m     steps\u001b[39m+\u001b[39m\u001b[39m=\u001b[39m\u001b[39m1\u001b[39m\n\u001b[0;32m---> <a href='vscode-notebook-cell:/Users/amaiaimazblanco/Documents/AdventOfCode2023/day8.ipynb#W2sZmlsZQ%3D%3D?line=14'>15</a>\u001b[0m     \u001b[39mif\u001b[39;00m are_last_letters_z(next_steps):\n\u001b[1;32m     <a href='vscode-notebook-cell:/Users/amaiaimazblanco/Documents/AdventOfCode2023/day8.ipynb#W2sZmlsZQ%3D%3D?line=15'>16</a>\u001b[0m         \u001b[39mbreak\u001b[39;00m\n\u001b[1;32m     <a href='vscode-notebook-cell:/Users/amaiaimazblanco/Documents/AdventOfCode2023/day8.ipynb#W2sZmlsZQ%3D%3D?line=16'>17</a>\u001b[0m \u001b[39mif\u001b[39;00m are_last_letters_z(next_steps):\n",
      "\u001b[1;32m/Users/amaiaimazblanco/Documents/AdventOfCode2023/day8.ipynb Cell 6\u001b[0m line \u001b[0;36m1\n\u001b[1;32m      <a href='vscode-notebook-cell:/Users/amaiaimazblanco/Documents/AdventOfCode2023/day8.ipynb#W2sZmlsZQ%3D%3D?line=0'>1</a>\u001b[0m \u001b[39mdef\u001b[39;00m \u001b[39mare_last_letters_z\u001b[39m(dictionary):\n\u001b[1;32m      <a href='vscode-notebook-cell:/Users/amaiaimazblanco/Documents/AdventOfCode2023/day8.ipynb#W2sZmlsZQ%3D%3D?line=1'>2</a>\u001b[0m     \u001b[39m# Extract the last letter of the first value (assuming all values are non-empty strings)\u001b[39;00m\n\u001b[1;32m      <a href='vscode-notebook-cell:/Users/amaiaimazblanco/Documents/AdventOfCode2023/day8.ipynb#W2sZmlsZQ%3D%3D?line=2'>3</a>\u001b[0m     \u001b[39m# last_letter = None\u001b[39;00m\n\u001b[0;32m   (...)\u001b[0m\n\u001b[1;32m      <a href='vscode-notebook-cell:/Users/amaiaimazblanco/Documents/AdventOfCode2023/day8.ipynb#W2sZmlsZQ%3D%3D?line=7'>8</a>\u001b[0m     \n\u001b[1;32m      <a href='vscode-notebook-cell:/Users/amaiaimazblanco/Documents/AdventOfCode2023/day8.ipynb#W2sZmlsZQ%3D%3D?line=8'>9</a>\u001b[0m     \u001b[39m# Check if the last letter of all values is equal to the first last letter\u001b[39;00m\n\u001b[0;32m---> <a href='vscode-notebook-cell:/Users/amaiaimazblanco/Documents/AdventOfCode2023/day8.ipynb#W2sZmlsZQ%3D%3D?line=9'>10</a>\u001b[0m     \u001b[39mreturn\u001b[39;00m \u001b[39mall\u001b[39;49m(value\u001b[39m.\u001b[39;49mendswith(\u001b[39m'\u001b[39;49m\u001b[39mZ\u001b[39;49m\u001b[39m'\u001b[39;49m) \u001b[39mfor\u001b[39;49;00m value \u001b[39min\u001b[39;49;00m dictionary\u001b[39m.\u001b[39;49mvalues())\n",
      "\u001b[0;31mKeyboardInterrupt\u001b[0m: "
     ]
    }
   ],
   "source": [
    "steps = 0 \n",
    "next_steps={}\n",
    "for starting_node in starting_nodes:\n",
    "    next_steps[starting_node] = starting_node\n",
    "\n",
    "while (are_last_letters_z(next_steps) is False):\n",
    "    for i,instruction in enumerate(instructions):\n",
    "        for key in next_steps.keys():\n",
    "            instruction = int(instruction)\n",
    "            if steps == 0:\n",
    "                next_steps[key] = node[next_steps[key]][instruction]\n",
    "            else: \n",
    "                next_steps[key] = node[next_steps[key]][instruction]\n",
    "        steps+=1\n",
    "        if are_last_letters_z(next_steps):\n",
    "            break\n",
    "    if are_last_letters_z(next_steps):\n",
    "            break\n",
    "\n",
    "steps"
   ]
  },
  {
   "cell_type": "code",
   "execution_count": null,
   "metadata": {},
   "outputs": [],
   "source": []
  }
 ],
 "metadata": {
  "kernelspec": {
   "display_name": "Python 3",
   "language": "python",
   "name": "python3"
  },
  "language_info": {
   "codemirror_mode": {
    "name": "ipython",
    "version": 3
   },
   "file_extension": ".py",
   "mimetype": "text/x-python",
   "name": "python",
   "nbconvert_exporter": "python",
   "pygments_lexer": "ipython3",
   "version": "3.12.0"
  }
 },
 "nbformat": 4,
 "nbformat_minor": 2
}
