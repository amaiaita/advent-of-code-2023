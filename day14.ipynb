{
 "cells": [
  {
   "cell_type": "code",
   "execution_count": 74,
   "metadata": {},
   "outputs": [],
   "source": [
    "TEST_INPUT = '''O....#....\n",
    "O.OO#....#\n",
    ".....##...\n",
    "OO.#O....O\n",
    ".O.....O#.\n",
    "O.#..O.#.#\n",
    "..O..#O..O\n",
    ".......O..\n",
    "#....###..\n",
    "#OO..#....'''.splitlines()"
   ]
  },
  {
   "cell_type": "code",
   "execution_count": 75,
   "metadata": {},
   "outputs": [],
   "source": [
    "with open(\"day14.txt\") as f:\n",
    "    TEST_INPUT = f.read().splitlines()"
   ]
  },
  {
   "cell_type": "code",
   "execution_count": 76,
   "metadata": {},
   "outputs": [],
   "source": [
    "formatted_input = []\n",
    "for line in TEST_INPUT:\n",
    "    formatted_input.append([l for l in line])\n"
   ]
  },
  {
   "cell_type": "code",
   "execution_count": null,
   "metadata": {},
   "outputs": [],
   "source": [
    "for i,line in enumerate(formatted_input):\n",
    "    for j,space in enumerate(line):\n",
    "        replaced = False\n",
    "        if space == 'O':\n",
    "            for k in reversed(range(0,i)):\n",
    "                if formatted_input[k][j] in ['#','O']:\n",
    "                    formatted_input[i][j]='.'\n",
    "                    formatted_input[k+1][j]='O'\n",
    "                    replaced = True\n",
    "                    break\n",
    "            if replaced==False:\n",
    "                formatted_input[i][j]='.'\n",
    "                formatted_input[0][j] = 'O'"
   ]
  },
  {
   "cell_type": "code",
   "execution_count": 77,
   "metadata": {},
   "outputs": [
    {
     "data": {
      "text/plain": [
       "109654"
      ]
     },
     "execution_count": 77,
     "metadata": {},
     "output_type": "execute_result"
    }
   ],
   "source": [
    "load = 0 \n",
    "\n",
    "for i in range(len(formatted_input)):\n",
    "    for j in range(len(formatted_input[i])):\n",
    "        if formatted_input[i][j]=='O':\n",
    "            load += len(formatted_input)-i\n",
    "\n",
    "load"
   ]
  }
 ],
 "metadata": {
  "kernelspec": {
   "display_name": "Python 3",
   "language": "python",
   "name": "python3"
  },
  "language_info": {
   "codemirror_mode": {
    "name": "ipython",
    "version": 3
   },
   "file_extension": ".py",
   "mimetype": "text/x-python",
   "name": "python",
   "nbconvert_exporter": "python",
   "pygments_lexer": "ipython3",
   "version": "3.12.0"
  }
 },
 "nbformat": 4,
 "nbformat_minor": 2
}
