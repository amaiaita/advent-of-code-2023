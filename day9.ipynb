{
 "cells": [
  {
   "cell_type": "code",
   "execution_count": 27,
   "metadata": {},
   "outputs": [
    {
     "data": {
      "text/plain": [
       "['0 3 6 9 12 15', '1 3 6 10 15 21', '10 13 16 21 30 45']"
      ]
     },
     "execution_count": 27,
     "metadata": {},
     "output_type": "execute_result"
    }
   ],
   "source": [
    "TEST_INPUT = '''0 3 6 9 12 15\n",
    "1 3 6 10 15 21\n",
    "10 13 16 21 30 45'''.splitlines()\n",
    "TEST_INPUT"
   ]
  },
  {
   "cell_type": "code",
   "execution_count": 28,
   "metadata": {},
   "outputs": [],
   "source": [
    "with open(\"day9.txt\") as f:\n",
    "    TEST_INPUT = f.read().splitlines()"
   ]
  },
  {
   "cell_type": "code",
   "execution_count": 29,
   "metadata": {},
   "outputs": [],
   "source": [
    "formatted_input = []\n",
    "for line in TEST_INPUT:\n",
    "    formatted_input.append([int(x) for x in line.split(' ')])"
   ]
  },
  {
   "cell_type": "code",
   "execution_count": 30,
   "metadata": {},
   "outputs": [],
   "source": [
    "current_pattern = []\n",
    "patterns = []\n",
    "for pattern in formatted_input:\n",
    "    current_pattern = []\n",
    "    current_pattern.append(pattern)\n",
    "    while not (all(x == 0 for x in current_pattern[-1])):\n",
    "        current_pattern.append([])\n",
    "        for i in range(len(current_pattern[-2])-1):\n",
    "            current_pattern[-1].append(current_pattern[-2][i+1]-current_pattern[-2][i])\n",
    "    patterns.append(current_pattern)\n"
   ]
  },
  {
   "cell_type": "code",
   "execution_count": 31,
   "metadata": {},
   "outputs": [
    {
     "data": {
      "text/plain": [
       "1072"
      ]
     },
     "execution_count": 31,
     "metadata": {},
     "output_type": "execute_result"
    }
   ],
   "source": [
    "newest_number = 0\n",
    "for pattern in patterns:\n",
    "    for i in reversed(range(len(pattern)-1)):\n",
    "        pattern[i].insert(0,pattern[i][0]-pattern[i+1][0])\n",
    "\n",
    "    newest_number+=pattern[0][0]\n",
    "\n",
    "newest_number"
   ]
  },
  {
   "cell_type": "code",
   "execution_count": null,
   "metadata": {},
   "outputs": [],
   "source": []
  }
 ],
 "metadata": {
  "kernelspec": {
   "display_name": "Python 3",
   "language": "python",
   "name": "python3"
  },
  "language_info": {
   "codemirror_mode": {
    "name": "ipython",
    "version": 3
   },
   "file_extension": ".py",
   "mimetype": "text/x-python",
   "name": "python",
   "nbconvert_exporter": "python",
   "pygments_lexer": "ipython3",
   "version": "3.12.0"
  }
 },
 "nbformat": 4,
 "nbformat_minor": 2
}
